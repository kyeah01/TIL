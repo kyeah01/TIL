{
 "cells": [
  {
   "cell_type": "code",
   "execution_count": 37,
   "metadata": {},
   "outputs": [
    {
     "data": {
      "text/plain": [
       "True"
      ]
     },
     "execution_count": 37,
     "metadata": {},
     "output_type": "execute_result"
    }
   ],
   "source": [
    "# def Palindrome(word):\n",
    "#     if len(word) % 2 == 0:\n",
    "#         for i in word:\n",
    "#             if word.count(i) == 1:\n",
    "#                 return False\n",
    "#     else:\n",
    "#         for i in word:\n",
    "#             if i != word[len(word)//2]:\n",
    "#                 if word.count(i) == 1:\n",
    "#                     return False\n",
    "#     return True\n",
    "\n",
    "        \n",
    "def Palindrome(word):\n",
    "    for i in range(len(word)//2):\n",
    "        if word[i] != word[-i-1]:\n",
    "            return False\n",
    "    return True\n",
    "        \n",
    "# def Palindrome(word):\n",
    "#     return list(word) == list(reversed(word))\n",
    "\n",
    "# def Palindrome(word):\n",
    "#     return list(word) == list(word[::-1])\n",
    "    \n",
    "Palindrome('level')"
   ]
  }
 ],
 "metadata": {
  "kernelspec": {
   "display_name": "Python 3",
   "language": "python",
   "name": "python3"
  },
  "language_info": {
   "codemirror_mode": {
    "name": "ipython",
    "version": 3
   },
   "file_extension": ".py",
   "mimetype": "text/x-python",
   "name": "python",
   "nbconvert_exporter": "python",
   "pygments_lexer": "ipython3",
   "version": "3.6.7"
  }
 },
 "nbformat": 4,
 "nbformat_minor": 2
}
