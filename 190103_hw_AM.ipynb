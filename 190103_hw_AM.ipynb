# 형인자로 쓸수없는 명령어 확인

import keyword
print(keyword.kwlist)

# 똑같아요?

a = 0.1*3
b = 0.3

import math
print(math.isclose(a,b))

# 변환가능?

int("3.5")     #불가
float("3.5")   #가능